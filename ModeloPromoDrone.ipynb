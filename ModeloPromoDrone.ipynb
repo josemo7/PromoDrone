{
 "cells": [
  {
   "cell_type": "code",
   "execution_count": 35,
   "metadata": {},
   "outputs": [],
   "source": [
    "#PROGRAMA MODELO ENTRENADO POR PROMODRONE\n",
    "#Librerias\n",
    "import boto3\n",
    "import io\n",
    "from PIL import Image, ImageDraw, ExifTags, ImageColor,ImageFont\n",
    "import json\n",
    "import pandas as pd"
   ]
  },
  {
   "cell_type": "code",
   "execution_count": 20,
   "metadata": {},
   "outputs": [],
   "source": [
    "bucket=\"promodronefaces\"\n",
    "photo=\"test/c3.jpg\"\n",
    "model=\"arn:aws:rekognition:us-east-2:864156931594:project/FacesPromoDrone-2/version/FacesPromoDrone-2.2021-05-20T21.40.34/1621564835514\"\n",
    "min_confidence = 70"
   ]
  },
  {
   "cell_type": "code",
   "execution_count": 21,
   "metadata": {},
   "outputs": [],
   "source": [
    "client=boto3.client('rekognition')"
   ]
  },
  {
   "cell_type": "code",
   "execution_count": 11,
   "metadata": {},
   "outputs": [],
   "source": [
    "response = client.detect_custom_labels(Image={'S3Object': {'Bucket': bucket, 'Name': photo}}, MinConfidence=min_confidence, ProjectVersionArn=model)"
   ]
  },
  {
   "cell_type": "code",
   "execution_count": 29,
   "metadata": {},
   "outputs": [],
   "source": [
    "with open('/Users/josemanuelolmedomtz/Desktop/archivoz2.json', 'w') as json_file:\n",
    "    json.dump(response, json_file)"
   ]
  },
  {
   "cell_type": "code",
   "execution_count": 22,
   "metadata": {},
   "outputs": [],
   "source": [
    "# Load image from S3 bucket\n",
    "s3_connection = boto3.resource('s3')\n",
    "s3_object = s3_connection.Object(bucket,photo)\n",
    "s3_response = s3_object.get()\n",
    "\n",
    "stream = io.BytesIO(s3_response['Body'].read())\n",
    "image=Image.open(stream)\n",
    "\n",
    "# Ready image to draw bounding boxes on it.\n",
    "imgWidth, imgHeight = image.size\n",
    "draw = ImageDraw.Draw(image)"
   ]
  },
  {
   "cell_type": "code",
   "execution_count": 32,
   "metadata": {},
   "outputs": [],
   "source": [
    "titles = []\n",
    "lstLabel = []\n",
    "lstConfidence = []\n",
    "\n",
    "\n",
    "for face in response['CustomLabels']:\n",
    "    lstLabel.append(str(face['Name']))\n",
    "    lstConfidence.append(str(face['Confidence']))"
   ]
  },
  {
   "cell_type": "code",
   "execution_count": 37,
   "metadata": {},
   "outputs": [],
   "source": [
    "pist = pd.DataFrame(\n",
    "    {'Label': lstLabel,\n",
    "     'Confidence': lstConfidence\n",
    "    })"
   ]
  },
  {
   "cell_type": "code",
   "execution_count": 38,
   "metadata": {},
   "outputs": [],
   "source": [
    "pist.to_csv(\"~/Desktop/datacondensedcustom.txt\", index=False, sep ='\\t')"
   ]
  },
  {
   "cell_type": "code",
   "execution_count": 23,
   "metadata": {},
   "outputs": [
    {
     "name": "stdout",
     "output_type": "stream",
     "text": [
      "Detected custom labels for test/c3.jpg\n",
      "Label black\n",
      "Confidence 99.88700103759766\n",
      "Left: 617\n",
      "Top: 209\n",
      "Label Width: 114\n",
      "Label Height: 162\n",
      "Label latin\n",
      "Confidence 99.35700225830078\n",
      "Left: 227\n",
      "Top: 756\n",
      "Label Width: 38\n",
      "Label Height: 43\n",
      "Label latin\n",
      "Confidence 96.57099914550781\n",
      "Left: 311\n",
      "Top: 759\n",
      "Label Width: 42\n",
      "Label Height: 38\n",
      "Label latin\n",
      "Confidence 95.32899475097656\n",
      "Left: 54\n",
      "Top: 696\n",
      "Label Width: 42\n",
      "Label Height: 43\n",
      "Label latin\n",
      "Confidence 93.72799682617188\n",
      "Left: 381\n",
      "Top: 761\n",
      "Label Width: 51\n",
      "Label Height: 38\n",
      "Label latin\n",
      "Confidence 92.26899719238281\n",
      "Left: 133\n",
      "Top: 718\n",
      "Label Width: 32\n",
      "Label Height: 34\n",
      "Label black\n",
      "Confidence 83.39700317382812\n",
      "Left: 896\n",
      "Top: 437\n",
      "Label Width: 25\n",
      "Label Height: 27\n",
      "Label latin\n",
      "Confidence 82.48100280761719\n",
      "Left: 1135\n",
      "Top: 431\n",
      "Label Width: 64\n",
      "Label Height: 156\n",
      "Label latin\n",
      "Confidence 80.28500366210938\n",
      "Left: 93\n",
      "Top: 703\n",
      "Label Width: 27\n",
      "Label Height: 26\n",
      "Label latin\n",
      "Confidence 67.31999969482422\n",
      "Left: 601\n",
      "Top: 207\n",
      "Label Width: 138\n",
      "Label Height: 173\n",
      "Label latin\n",
      "Confidence 63.927001953125\n",
      "Left: 497\n",
      "Top: 729\n",
      "Label Width: 27\n",
      "Label Height: 36\n"
     ]
    }
   ],
   "source": [
    "# calculate and display bounding boxes for each detected custom label\n",
    "print('Detected custom labels for ' + photo)\n",
    "for customLabel in response['CustomLabels']:\n",
    "    print('Label ' + str(customLabel['Name']))\n",
    "    print('Confidence ' + str(customLabel['Confidence']))\n",
    "    if 'Geometry' in customLabel:\n",
    "        box = customLabel['Geometry']['BoundingBox']\n",
    "        left = imgWidth * box['Left']\n",
    "        top = imgHeight * box['Top']\n",
    "        width = imgWidth * box['Width']\n",
    "        height = imgHeight * box['Height']\n",
    "        \n",
    "        fnt = ImageFont.truetype('/Library/Fonts/Arial.ttf', 15)\n",
    "        draw.text((left,top), customLabel['Name'], fill='#00d400', font=fnt)\n",
    "        \n",
    "        print('Left: ' + '{0:.0f}'.format(left))\n",
    "        print('Top: ' + '{0:.0f}'.format(top))\n",
    "        print('Label Width: ' + \"{0:.0f}\".format(width))\n",
    "        print('Label Height: ' + \"{0:.0f}\".format(height))\n",
    "        \n",
    "        points = ((left,top),(left + width, top),(left + width, top + height),(left , top + height),(left, top))\n",
    "        draw.line(points, fill='#00d400', width=5)"
   ]
  },
  {
   "cell_type": "code",
   "execution_count": 24,
   "metadata": {},
   "outputs": [],
   "source": [
    "image.show()"
   ]
  },
  {
   "cell_type": "code",
   "execution_count": 25,
   "metadata": {},
   "outputs": [],
   "source": [
    "image.save(\"aa.jpg\")"
   ]
  },
  {
   "cell_type": "code",
   "execution_count": 26,
   "metadata": {},
   "outputs": [
    {
     "name": "stdout",
     "output_type": "stream",
     "text": [
      "Custom labels detected: 11\n"
     ]
    }
   ],
   "source": [
    "label_count = len(response['CustomLabels'])\n",
    "print(\"Custom labels detected: \" + str(label_count))"
   ]
  },
  {
   "cell_type": "code",
   "execution_count": null,
   "metadata": {},
   "outputs": [],
   "source": []
  },
  {
   "cell_type": "code",
   "execution_count": null,
   "metadata": {},
   "outputs": [],
   "source": []
  },
  {
   "cell_type": "code",
   "execution_count": null,
   "metadata": {},
   "outputs": [],
   "source": []
  },
  {
   "cell_type": "code",
   "execution_count": null,
   "metadata": {},
   "outputs": [],
   "source": []
  },
  {
   "cell_type": "code",
   "execution_count": null,
   "metadata": {},
   "outputs": [],
   "source": [
    "\n",
    "\n"
   ]
  }
 ],
 "metadata": {
  "kernelspec": {
   "display_name": "Python 3",
   "language": "python",
   "name": "python3"
  },
  "language_info": {
   "codemirror_mode": {
    "name": "ipython",
    "version": 3
   },
   "file_extension": ".py",
   "mimetype": "text/x-python",
   "name": "python",
   "nbconvert_exporter": "python",
   "pygments_lexer": "ipython3",
   "version": "3.8.5"
  }
 },
 "nbformat": 4,
 "nbformat_minor": 4
}
